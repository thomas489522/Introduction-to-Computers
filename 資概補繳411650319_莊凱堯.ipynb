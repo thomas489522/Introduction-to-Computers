{
  "nbformat": 4,
  "nbformat_minor": 0,
  "metadata": {
    "colab": {
      "provenance": [],
      "authorship_tag": "ABX9TyMnJXhVMvG+6WduMy05nCye",
      "include_colab_link": true
    },
    "kernelspec": {
      "name": "python3",
      "display_name": "Python 3"
    },
    "language_info": {
      "name": "python"
    }
  },
  "cells": [
    {
      "cell_type": "markdown",
      "metadata": {
        "id": "view-in-github",
        "colab_type": "text"
      },
      "source": [
        "<a href=\"https://colab.research.google.com/github/thomas489522/Introduction-to-Computers/blob/main/%E8%B3%87%E6%A6%82%E8%A3%9C%E7%B9%B3411650319_%E8%8E%8A%E5%87%B1%E5%A0%AF.ipynb\" target=\"_parent\"><img src=\"https://colab.research.google.com/assets/colab-badge.svg\" alt=\"Open In Colab\"/></a>"
      ]
    },
    {
      "cell_type": "code",
      "execution_count": null,
      "metadata": {
        "colab": {
          "base_uri": "https://localhost:8080/"
        },
        "id": "2M1Ggn154e0s",
        "outputId": "ed30076f-bd32-4ac7-963e-03a2e04f467d"
      },
      "outputs": [
        {
          "output_type": "stream",
          "name": "stdout",
          "text": [
            "peiyu\n",
            "peiyu\n"
          ]
        }
      ],
      "source": [
        "x = input(str())\n",
        "print(x)"
      ]
    },
    {
      "cell_type": "code",
      "source": [
        "x = input(str())\n",
        "print(len(x))\n"
      ],
      "metadata": {
        "colab": {
          "base_uri": "https://localhost:8080/"
        },
        "id": "paZTyvDR41gp",
        "outputId": "537dd1bb-62a1-4066-f25d-e773c1cb4a3b"
      },
      "execution_count": null,
      "outputs": [
        {
          "output_type": "stream",
          "name": "stdout",
          "text": [
            "peiyu sorry im late :(\n",
            "22\n"
          ]
        }
      ]
    },
    {
      "cell_type": "code",
      "source": [
        "h,w= input().split()\n",
        "H = int(h)/100\n",
        "W = int(w)\n",
        "BMI = W/H**2\n",
        "print('%.2f'  %BMI)"
      ],
      "metadata": {
        "colab": {
          "base_uri": "https://localhost:8080/"
        },
        "id": "D1Ei2nZv5MlT",
        "outputId": "206d5296-b011-4079-bb45-09704bc29ec1"
      },
      "execution_count": null,
      "outputs": [
        {
          "output_type": "stream",
          "name": "stdout",
          "text": [
            "171 65\n",
            "22.23\n"
          ]
        }
      ]
    },
    {
      "cell_type": "code",
      "source": [
        "n = input()\n",
        "x = int(n)\n",
        "sum = 0\n",
        "for i in range (10,x+1):\n",
        " sum+=i  \n",
        "print(sum)"
      ],
      "metadata": {
        "colab": {
          "base_uri": "https://localhost:8080/"
        },
        "id": "qRTwOnvk7nJ-",
        "outputId": "e66907ec-17b6-47eb-8503-9ca7043f30ff"
      },
      "execution_count": null,
      "outputs": [
        {
          "output_type": "stream",
          "name": "stdout",
          "text": [
            "20\n",
            "165\n"
          ]
        }
      ]
    },
    {
      "cell_type": "code",
      "source": [
        "name = input(str())\n",
        "print(name)"
      ],
      "metadata": {
        "colab": {
          "base_uri": "https://localhost:8080/"
        },
        "id": "PXOv4yoj9YOn",
        "outputId": "ccc40688-6434-453f-c626-644a7fc93a67"
      },
      "execution_count": null,
      "outputs": [
        {
          "output_type": "stream",
          "name": "stdout",
          "text": [
            "peiyu\n",
            "peiyu\n"
          ]
        }
      ]
    },
    {
      "cell_type": "code",
      "source": [
        "sum = 0\n",
        "n = input()\n",
        "x = int(n)\n",
        "for i in range (1,x+1,1):\n",
        "  sum+=i\n",
        "print(sum)\n"
      ],
      "metadata": {
        "colab": {
          "base_uri": "https://localhost:8080/"
        },
        "id": "wKVBTTI-9xRy",
        "outputId": "661e711a-0ae1-4dd5-dc04-18453b2ae162"
      },
      "execution_count": null,
      "outputs": [
        {
          "output_type": "stream",
          "name": "stdout",
          "text": [
            "100\n",
            "5050\n"
          ]
        }
      ]
    }
  ]
}